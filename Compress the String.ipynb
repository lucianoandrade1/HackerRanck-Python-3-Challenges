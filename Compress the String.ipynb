{
 "cells": [
  {
   "cell_type": "code",
   "execution_count": 10,
   "metadata": {},
   "outputs": [
    {
     "name": "stdout",
     "output_type": "stream",
     "text": [
      "Enter the string: 1222311\n",
      "(1, 1) (3, 2) (1, 3) (2, 1) "
     ]
    }
   ],
   "source": [
    "#HackerRanck Compress the String challenge\n",
    "#Author: Luciano Andrade\n",
    "\n",
    "#In this task, we would like for you to appreciate the usefulness of the groupby() function of itertools . To read more about this\n",
    "#function, Check this out .\n",
    "\n",
    "#You are given a string . Suppose a character 'c' occurs consecutively X times in the string. Replace these consecutive occurrences\n",
    "#of the character 'c' with (X, c) in the string.\n",
    "\n",
    "#For a better understanding of the problem, check the explanation.\n",
    "\n",
    "#Input Format\n",
    "\n",
    "#A single line of input consisting of the string S.\n",
    "\n",
    "#Output Format\n",
    "\n",
    "#A single line of output consisting of the modified string.\n",
    "\n",
    "#Constraints\n",
    "\n",
    "#All the characters of S denote integers between 0 and 9.\n",
    "\n",
    "from itertools import groupby\n",
    "\n",
    "string = input(\"Enter the string: \")\n",
    "\n",
    "groups = [list(g) for k, g in groupby(string)]\n",
    "\n",
    "for group in groups:\n",
    "    print(\"(\" + str(len(group)) + \", \" + group[0] + \")\", end=\" \")\n",
    "\n"
   ]
  },
  {
   "cell_type": "code",
   "execution_count": null,
   "metadata": {},
   "outputs": [],
   "source": []
  }
 ],
 "metadata": {
  "kernelspec": {
   "display_name": "Python 3",
   "language": "python",
   "name": "python3"
  },
  "language_info": {
   "codemirror_mode": {
    "name": "ipython",
    "version": 3
   },
   "file_extension": ".py",
   "mimetype": "text/x-python",
   "name": "python",
   "nbconvert_exporter": "python",
   "pygments_lexer": "ipython3",
   "version": "3.7.0"
  }
 },
 "nbformat": 4,
 "nbformat_minor": 2
}
