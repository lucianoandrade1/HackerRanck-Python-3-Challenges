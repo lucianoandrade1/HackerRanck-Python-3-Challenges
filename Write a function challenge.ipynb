{
 "cells": [
  {
   "cell_type": "code",
   "execution_count": 7,
   "metadata": {},
   "outputs": [
    {
     "name": "stdout",
     "output_type": "stream",
     "text": [
      "2000\n",
      "True\n"
     ]
    }
   ],
   "source": [
    "#Hackerrank \"Write a Function\" challenge\n",
    "#Luciano Andrade\n",
    "\n",
    "\n",
    "#We add a Leap Day on February 29, almost every four years. The leap day is an extra, or intercalary day and we add it to the shortest month of the year, February.\n",
    "#In the Gregorian calendar three criteria must be taken into account to identify leap years:\n",
    "\n",
    "#The year can be evenly divided by 4, is a leap year, unless:\n",
    "#The year can be evenly divided by 100, it is NOT a leap year, unless:\n",
    "#The year is also evenly divisible by 400. Then it is a leap year.\n",
    "#This means that in the Gregorian calendar, the years 2000 and 2400 are leap years, while 1800, 1900, 2100, 2200, 2300 and 2500 are NOT leap years.Source\n",
    "\n",
    "#Task\n",
    "#You are given the year, and you have to write a function to check if the year is leap or not.\n",
    "\n",
    "def is_leap(year):\n",
    "        \n",
    "    # Write your logic here\n",
    "\n",
    "    return True if year%400==0 else False if year%100==0 else True if year%4==0 else False\n",
    "\n",
    "print(is_leap(int(input())))"
   ]
  },
  {
   "cell_type": "code",
   "execution_count": null,
   "metadata": {},
   "outputs": [],
   "source": []
  },
  {
   "cell_type": "code",
   "execution_count": null,
   "metadata": {},
   "outputs": [],
   "source": []
  }
 ],
 "metadata": {
  "kernelspec": {
   "display_name": "Python 3",
   "language": "python",
   "name": "python3"
  },
  "language_info": {
   "codemirror_mode": {
    "name": "ipython",
    "version": 3
   },
   "file_extension": ".py",
   "mimetype": "text/x-python",
   "name": "python",
   "nbconvert_exporter": "python",
   "pygments_lexer": "ipython3",
   "version": "3.7.0"
  }
 },
 "nbformat": 4,
 "nbformat_minor": 2
}
