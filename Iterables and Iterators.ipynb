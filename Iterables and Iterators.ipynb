{
 "cells": [
  {
   "cell_type": "code",
   "execution_count": 22,
   "metadata": {},
   "outputs": [
    {
     "name": "stdout",
     "output_type": "stream",
     "text": [
      "How many letters will you enter?: 4\n",
      "Enter 4 letters separated by space: a a c d\n",
      "How many indices will be selected? (Lower than 4): 2\n",
      "0.833\n"
     ]
    }
   ],
   "source": [
    "#HackerRank Iterables and Iterators Challenge\n",
    "#Author: Luciano Andrade\n",
    "\n",
    "#The itertools module standardizes a core set of fast, memory efficient tools that are useful by themselves or in combination. \n",
    "#Together, they form an iterator algebra making it possible to construct specialized tools succinctly and efficiently in pure \n",
    "#Python.\n",
    "\n",
    "#To read more about the functions in this module, check out their documentation here.\n",
    "\n",
    "#You are given a list of N lowercase English letters. For a given integer k, you can select any k indices (assume 1-based \n",
    "#indexing) with a uniform probability from the list.\n",
    "\n",
    "#Find the probability that at least one of the k indices selected will contain the letter: 'a'.\n",
    "\n",
    "#Input Format\n",
    "\n",
    "#The input consists of three lines. The first line contains the integer K, denoting the length of the list. The next line \n",
    "#consists of  space-separated lowercase English letters, denoting the elements of the list.\n",
    "\n",
    "#The third and the last line of input contains the integer K, denoting the number of indices to be selected.\n",
    "\n",
    "#Output Format\n",
    "\n",
    "#Output a single line consisting of the probability that at least one of the K indices selected contains the letter:'a'.\n",
    "\n",
    "#Note: The answer must be correct up to 3 decimal places.\n",
    "\n",
    "import itertools\n",
    "\n",
    "n = int(input(\"How many letters will you enter?: \"))\n",
    "\n",
    "values = input(\"Enter {} letters separated by space: \".format(n))\n",
    "\n",
    "valuesList  = values.split()\n",
    "\n",
    "i = int(input(\"How many indices will be selected? (Lower than {}): \".format(n)))\n",
    "\n",
    "comb = list(itertools.combinations(valuesList, i))\n",
    "\n",
    "i = 0\n",
    "for l in comb:\n",
    "    if 'a' in l:\n",
    "        i+=1 \n",
    "\n",
    "print('{0:.3g}'.format(i/len(comb)))"
   ]
  }
 ],
 "metadata": {
  "kernelspec": {
   "display_name": "Python 3",
   "language": "python",
   "name": "python3"
  },
  "language_info": {
   "codemirror_mode": {
    "name": "ipython",
    "version": 3
   },
   "file_extension": ".py",
   "mimetype": "text/x-python",
   "name": "python",
   "nbconvert_exporter": "python",
   "pygments_lexer": "ipython3",
   "version": "3.7.0"
  }
 },
 "nbformat": 4,
 "nbformat_minor": 2
}
