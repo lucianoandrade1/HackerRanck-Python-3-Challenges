{
 "cells": [
  {
   "cell_type": "code",
   "execution_count": 10,
   "metadata": {},
   "outputs": [
    {
     "name": "stdout",
     "output_type": "stream",
     "text": [
      "Enter n and m values separated by space: 3 2\n",
      "Enter array with 3 elements: 1 5 9\n",
      "Enter set A with 2 elements: 0 1\n",
      "Enter set B with 2 elements: 5 9\n",
      "The happyness in: -1.\n"
     ]
    }
   ],
   "source": [
    "#HackerHank No Idea challenge.\n",
    "#Author: Luciano Andrade\n",
    "\n",
    "#There is an array of n integers. There are also 2 disjoint sets, A and B, each containing m integers. You like all the integers \n",
    "#in set A and dislike all the integers in set B. Your initial happiness is 0. For each i integer in the array, if i pertence a A, \n",
    "#you add 1 to your happiness. If i pertence a B, you add -1 to your happiness. Otherwise, your happiness does not change. Output \n",
    "#your final happiness at the end.\n",
    "\n",
    "#Note: Since A and B are sets, they have no repeated elements. However, the array might contain duplicate elements.\n",
    "\n",
    "#Constraints\n",
    "#1 <= n <= 10**5\n",
    "#1 <= m <= 10**5\n",
    "#1 <= Any integet in the input <= 10**9\n",
    "\n",
    "#Input Format\n",
    "\n",
    "#The first line contains integers n and m separated by a space.\n",
    "#The second line contains n integers, the elements of the array.\n",
    "#The third and fourth lines contain m integers, A and B, respectively.\n",
    "\n",
    "#Output Format\n",
    "\n",
    "#Output a single integer, your total happiness.\n",
    "\n",
    "nANDm = input(\"Enter n and m values separated by space: \")\n",
    "nAndmList  = nANDm.split()\n",
    "\n",
    "nArray = input(\"Enter array with {} elements: \".format(nAndmList[0]))\n",
    "nArrayList = nArray.split()\n",
    "\n",
    "setA = input(\"Enter set A with {} elements: \".format(nAndmList[1]))\n",
    "setASet = set(setA.split())\n",
    "\n",
    "setB = input(\"Enter set B with {} elements: \".format(nAndmList[1]))\n",
    "setBSet = set(setB.split())\n",
    "\n",
    "happyness = 0\n",
    "for n in nArrayList:\n",
    "    if n in setASet:\n",
    "        happyness+=1\n",
    "    if n in setBSet:\n",
    "        happyness-=1\n",
    "        \n",
    "print(\"The happyness in: {}.\".format(happyness))"
   ]
  },
  {
   "cell_type": "code",
   "execution_count": null,
   "metadata": {},
   "outputs": [],
   "source": []
  }
 ],
 "metadata": {
  "kernelspec": {
   "display_name": "Python 3",
   "language": "python",
   "name": "python3"
  },
  "language_info": {
   "codemirror_mode": {
    "name": "ipython",
    "version": 3
   },
   "file_extension": ".py",
   "mimetype": "text/x-python",
   "name": "python",
   "nbconvert_exporter": "python",
   "pygments_lexer": "ipython3",
   "version": "3.7.0"
  }
 },
 "nbformat": 4,
 "nbformat_minor": 2
}
