{
 "cells": [
  {
   "cell_type": "code",
   "execution_count": 5,
   "metadata": {},
   "outputs": [
    {
     "name": "stdout",
     "output_type": "stream",
     "text": [
      "Enter the IP Address: 192.168.0.100\n",
      "True\n"
     ]
    }
   ],
   "source": [
    "#HackerRank IP Address challenge\n",
    "#Author: Luciano Andrade\n",
    "\n",
    "#In this problem you will be provided strings containing any combination of ASCII characters. \n",
    "\n",
    "#You have to write Python code to find the valid IPs.\n",
    "\n",
    "from netaddr import valid_ipv4\n",
    "\n",
    "ip = input(\"Enter the IP Address: \")\n",
    "\n",
    "print(valid_ipv4(ip))"
   ]
  },
  {
   "cell_type": "code",
   "execution_count": null,
   "metadata": {},
   "outputs": [],
   "source": []
  }
 ],
 "metadata": {
  "kernelspec": {
   "display_name": "Python 3",
   "language": "python",
   "name": "python3"
  },
  "language_info": {
   "codemirror_mode": {
    "name": "ipython",
    "version": 3
   },
   "file_extension": ".py",
   "mimetype": "text/x-python",
   "name": "python",
   "nbconvert_exporter": "python",
   "pygments_lexer": "ipython3",
   "version": "3.7.0"
  }
 },
 "nbformat": 4,
 "nbformat_minor": 2
}
