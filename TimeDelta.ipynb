{
 "cells": [
  {
   "cell_type": "code",
   "execution_count": 1,
   "metadata": {},
   "outputs": [
    {
     "name": "stdout",
     "output_type": "stream",
     "text": [
      "2\n",
      "Sun 10 May 2015 13:54:36 -0700\n",
      "Sun 10 May 2015 13:54:36 -0000\n",
      "25200\n",
      "Sat 02 May 2015 19:54:36 +0530\n",
      "Fri 01 May 2015 13:54:36 -0000\n",
      "88200\n"
     ]
    }
   ],
   "source": [
    "#Author: Luciano Andrade\n",
    "#HackerRank Time Delta challenge\n",
    "\n",
    "#When users post an update on social media,such as a URL, image, status update etc., other users in their network are able to view this new post on their news feed. Users can also see exactly when the post was published, i.e, how many hours, minutes or seconds ago.\n",
    "\n",
    "#Since sometimes posts are published and viewed in different time zones, this can be confusing. You are given two timestamps of one such post that a user can see on his newsfeed in the following format:\n",
    "\n",
    "#Day dd Mon yyyy hh:mm:ss +xxxx\n",
    "\n",
    "#Here +xxxx represents the time zone. Your task is to print the absolute difference (in seconds) between them.\n",
    "\n",
    "#Input Format\n",
    "\n",
    "#The first line contains , the number of testcases.\n",
    "#Each testcase contains  lines, representing time  and time .\n",
    "\n",
    "#Constraints\n",
    "\n",
    "#Input contains only valid timestamps\n",
    "#year <= 3000\n",
    "\n",
    "#Output Format\n",
    "\n",
    "#Print the absolute difference (t1-t2) in seconds.\n",
    "\n",
    "from datetime import datetime\n",
    "\n",
    "# Complete the time_delta function below.\n",
    "def time_delta(t1, t2):\n",
    "    \n",
    "    return abs(int((t1-t2).total_seconds()))\n",
    "\n",
    "if __name__ == '__main__':\n",
    "\n",
    "    for i in range(int(input())):\n",
    "        t1 = datetime.strptime(input(), '%a %d %b %Y %H:%M:%S %z')\n",
    "        t2 = datetime.strptime(input(), '%a %d %b %Y %H:%M:%S %z')\n",
    "        print(time_delta(t1, t2))    \n",
    "\n"
   ]
  }
 ],
 "metadata": {
  "kernelspec": {
   "display_name": "Python 3",
   "language": "python",
   "name": "python3"
  },
  "language_info": {
   "codemirror_mode": {
    "name": "ipython",
    "version": 3
   },
   "file_extension": ".py",
   "mimetype": "text/x-python",
   "name": "python",
   "nbconvert_exporter": "python",
   "pygments_lexer": "ipython3",
   "version": "3.7.0"
  }
 },
 "nbformat": 4,
 "nbformat_minor": 2
}
