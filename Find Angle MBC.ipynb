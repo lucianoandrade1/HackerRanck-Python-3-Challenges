{
 "cells": [
  {
   "cell_type": "code",
   "execution_count": 7,
   "metadata": {},
   "outputs": [
    {
     "name": "stdout",
     "output_type": "stream",
     "text": [
      "Enter the size of AB: 10\n",
      "Enter the size of BC: 10\n",
      "45°\n"
     ]
    }
   ],
   "source": [
    "#HackerRank Find Angle MBC challenge\n",
    "#Luciano Andrade\n",
    "\n",
    "#Given the point M is the midpoint of hypotenuse.\n",
    "\n",
    "#You are given the lengths AB and BC.\n",
    "#Your task is to find the angle MBC in degrees.\n",
    "\n",
    "#Input Format\n",
    "\n",
    "#The first line contains the length of side AB.\n",
    "#The second line contains the length of side BC.\n",
    "\n",
    "#Constraints\n",
    "\n",
    "#Lengths AB and BC are natural numbers.\n",
    "\n",
    "#Output Format\n",
    "\n",
    "#Output MBC in degrees.\n",
    "\n",
    "#Note: Round the angle to the nearest integer.    \n",
    "    \n",
    "from math import atan2, degrees\n",
    "\n",
    "ab = int(input('Enter the size of AB: '))\n",
    "bc = int(input('Enter the size of BC: '))\n",
    "\n",
    "print(str(round(degrees(atan2(ab, bc)))) + '°')"
   ]
  }
 ],
 "metadata": {
  "kernelspec": {
   "display_name": "Python 3",
   "language": "python",
   "name": "python3"
  },
  "language_info": {
   "codemirror_mode": {
    "name": "ipython",
    "version": 3
   },
   "file_extension": ".py",
   "mimetype": "text/x-python",
   "name": "python",
   "nbconvert_exporter": "python",
   "pygments_lexer": "ipython3",
   "version": "3.7.0"
  }
 },
 "nbformat": 4,
 "nbformat_minor": 2
}
