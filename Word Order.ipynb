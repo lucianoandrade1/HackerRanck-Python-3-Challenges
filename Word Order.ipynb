{
 "cells": [
  {
   "cell_type": "code",
   "execution_count": 9,
   "metadata": {},
   "outputs": [
    {
     "name": "stdout",
     "output_type": "stream",
     "text": [
      "How many words?: 4\n",
      "Enter the word number 1: bcdef\n",
      "Enter the word number 2: abcdefg\n",
      "Enter the word number 3: bcde\n",
      "Enter the word number 4: bcdef\n",
      "3\n",
      "2 1 1 "
     ]
    }
   ],
   "source": [
    "#HackerRank Word Order challenge\n",
    "#Author: Luciano Andrade\n",
    "\n",
    "#You are given n words. Some words may repeat. For each word, output its number of occurrences. The output order should \n",
    "#correspond with the input order of appearance of the word. See the sample input/output for clarification.\n",
    "\n",
    "#Note: Each input line ends with a \"\\n\" character.\n",
    "\n",
    "#Constraints:\n",
    "\n",
    "#1 <= n <= 10**5\n",
    "    \n",
    "#The sum of the lengths of all the words do not exceed 10**6\n",
    "#All the words are composed of lowercase English letters only.\n",
    "\n",
    "#Input Format\n",
    "\n",
    "#The first line contains the integer, n.\n",
    "#The next n lines each contain a word.\n",
    "\n",
    "#Output Format\n",
    "\n",
    "#Output 2 lines.\n",
    "#On the first line, output the number of distinct words from the input.\n",
    "#On the second line, output the number of occurrences for each distinct word according to their appearance in the input.\n",
    "\n",
    "from collections import Counter\n",
    "\n",
    "n = int(input('How many words?: '))\n",
    "\n",
    "words = list()\n",
    "for i in range(1,n+1):\n",
    "    words.append(input('Enter the word number {}: '.format(i)))\n",
    "\n",
    "c = Counter(words)\n",
    "\n",
    "print(len(c))\n",
    "\n",
    "for item in c.items():\n",
    "    print(item[1], end=\" \")\n"
   ]
  },
  {
   "cell_type": "code",
   "execution_count": null,
   "metadata": {},
   "outputs": [],
   "source": []
  }
 ],
 "metadata": {
  "kernelspec": {
   "display_name": "Python 3",
   "language": "python",
   "name": "python3"
  },
  "language_info": {
   "codemirror_mode": {
    "name": "ipython",
    "version": 3
   },
   "file_extension": ".py",
   "mimetype": "text/x-python",
   "name": "python",
   "nbconvert_exporter": "python",
   "pygments_lexer": "ipython3",
   "version": "3.7.0"
  }
 },
 "nbformat": 4,
 "nbformat_minor": 2
}
