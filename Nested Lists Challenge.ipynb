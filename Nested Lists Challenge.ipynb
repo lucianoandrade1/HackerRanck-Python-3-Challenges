{
 "cells": [
  {
   "cell_type": "code",
   "execution_count": 45,
   "metadata": {},
   "outputs": [
    {
     "name": "stdout",
     "output_type": "stream",
     "text": [
      "5\n",
      "Juliana\n",
      "80\n",
      "Luciano\n",
      "75\n",
      "Julia\n",
      "100\n",
      "Larissa\n",
      "80\n",
      "Juliano\n",
      "90\n",
      "Juliana\n",
      "Larissa\n"
     ]
    }
   ],
   "source": [
    "#HackerRank \"Nested Lists\" challenge \n",
    "#Luciano Carli Moreira de Andrade\n",
    "\n",
    "#Given the names and grades for each student in a Physics class of  students, store them in a nested list and print the name(s) of any student(s) having the second lowest grade.\n",
    "\n",
    "#Note: If there are multiple students with the same grade, order their names alphabetically and print each name on a new line.\n",
    "\n",
    "#Input Format\n",
    "\n",
    "#The first line contains an integer, , the number of students.\n",
    "#The  subsequent lines describe each student over  lines; the first line contains a student's name, and the second line contains their grade.\n",
    "\n",
    "#Constraints\n",
    "\n",
    "#There will always be one or more students having the second lowest grade.\n",
    "#Output Format\n",
    "\n",
    "#Print the name(s) of any student(s) having the second lowest grade in Physics; if there are multiple students, order their names alphabetically and print each one on a new line.\n",
    "\n",
    "if __name__ == '__main__':\n",
    "\n",
    "    myList = []\n",
    "    auxList = []\n",
    "    \n",
    "    for _ in range(int(input())):\n",
    "        name = input()\n",
    "        score = float(input())\n",
    "\n",
    "        myList.append([name,score])\n",
    "        auxList.append(score)\n",
    "        \n",
    "    myList.sort(key=lambda x: (x[1], x[0]))\n",
    " \n",
    "    secGrade = float(sorted(list(set(auxList)))[1])\n",
    "    \n",
    "print ('\\n'.join([elem[0] for elem in myList if secGrade==elem[1]]))      "
   ]
  },
  {
   "cell_type": "markdown",
   "metadata": {},
   "source": []
  }
 ],
 "metadata": {
  "kernelspec": {
   "display_name": "Python 3",
   "language": "python",
   "name": "python3"
  },
  "language_info": {
   "codemirror_mode": {
    "name": "ipython",
    "version": 3
   },
   "file_extension": ".py",
   "mimetype": "text/x-python",
   "name": "python",
   "nbconvert_exporter": "python",
   "pygments_lexer": "ipython3",
   "version": "3.7.0"
  }
 },
 "nbformat": 4,
 "nbformat_minor": 2
}
