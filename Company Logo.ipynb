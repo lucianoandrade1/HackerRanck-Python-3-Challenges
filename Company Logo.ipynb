{
 "cells": [
  {
   "cell_type": "code",
   "execution_count": 37,
   "metadata": {},
   "outputs": [
    {
     "name": "stdout",
     "output_type": "stream",
     "text": [
      "Enter the company name: aabbbccde\n",
      "b 3\n",
      "a 2\n",
      "c 2\n"
     ]
    }
   ],
   "source": [
    "#HackerRank Company Logo challenge\n",
    "#Author: Luciano Andrade\n",
    "\n",
    "#A newly opened multinational brand has decided to base their company logo on the three most common characters in the company name.\n",
    "#They are now trying out various combinations of company names and logos based on this condition. Given a string S, which is the \n",
    "#company name in lowercase letters, your task is to find the top three most common characters in the string.\n",
    "\n",
    "#Print the three most common characters along with their occurrence count.\n",
    "#Sort in descending order of occurrence count.\n",
    "#If the occurrence count is the same, sort the characters in alphabetical order.\n",
    "\n",
    "#For example, according to the conditions described above,\n",
    "\n",
    "#GOOGLE would have it's logo with the letters G, O, E.\n",
    "\n",
    "#Input Format\n",
    "\n",
    "#A single line of input containing the string S.\n",
    "\n",
    "#Constraints\n",
    "\n",
    "#3 < len(S) < 10**4\n",
    "\n",
    "#Output Format\n",
    "\n",
    "#Print the three most common characters along with their occurrence count each on a separate line.\n",
    "#Sort output in descending order of occurrence count.\n",
    "#If the occurrence count is the same, sort the characters in alphabetical order.\n",
    "\n",
    "companyName = input(\"Enter the company name: \")\n",
    "\n",
    "common = sorted([[letter,companyName.count(letter)] for letter in set(companyName)], key=lambda x: (x[1], 1/ord(x[0])), reverse=True)[0:3]\n",
    "\n",
    "for c in common:\n",
    "    print(c[0] + \" \" + str(c[1]))\n"
   ]
  },
  {
   "cell_type": "code",
   "execution_count": null,
   "metadata": {},
   "outputs": [],
   "source": []
  }
 ],
 "metadata": {
  "kernelspec": {
   "display_name": "Python 3",
   "language": "python",
   "name": "python3"
  },
  "language_info": {
   "codemirror_mode": {
    "name": "ipython",
    "version": 3
   },
   "file_extension": ".py",
   "mimetype": "text/x-python",
   "name": "python",
   "nbconvert_exporter": "python",
   "pygments_lexer": "ipython3",
   "version": "3.7.0"
  }
 },
 "nbformat": 4,
 "nbformat_minor": 2
}
