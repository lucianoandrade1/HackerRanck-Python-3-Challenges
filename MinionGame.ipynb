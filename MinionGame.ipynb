{
 "cells": [
  {
   "cell_type": "code",
   "execution_count": 30,
   "metadata": {},
   "outputs": [
    {
     "name": "stdout",
     "output_type": "stream",
     "text": [
      "BANANA\n",
      "['Stuart', 12]\n"
     ]
    }
   ],
   "source": [
    "#HackerRank 'The Minion Game' challenge\n",
    "#Author:Luciano Andrade\n",
    "\n",
    "#Kevin and Stuart want to play the 'The Minion Game'.\n",
    "\n",
    "#Game Rules\n",
    "\n",
    "#Both players are given the same string, .\n",
    "#Both players have to make substrings using the letters of the string .\n",
    "#Stuart has to make words starting with consonants.\n",
    "#Kevin has to make words starting with vowels.\n",
    "#The game ends when both players have made all possible substrings.\n",
    "\n",
    "#Scoring\n",
    "#A player gets +1 point for each occurrence of the substring in the string .\n",
    "\n",
    "#For Example:\n",
    "#String  = BANANA\n",
    "#Kevin's vowel beginning word = ANA\n",
    "#Here, ANA occurs twice in BANANA. Hence, Kevin will get 2 Points.\n",
    "\n",
    "\n",
    "#Your task is to determine the winner of the game and their score.\n",
    "\n",
    "#Input Format\n",
    "\n",
    "#A single line of input containing the string .\n",
    "#Note: The string  will contain only uppercase letters: .\n",
    "\n",
    "#Constraints\n",
    "\n",
    "#0< len(S) < 10**6\n",
    "\n",
    "#Output Format\n",
    "\n",
    "#Print one line: the name of the winner and their score separated by a space.\n",
    "\n",
    "#If the game is a draw, print Draw.\n",
    "\n",
    "\n",
    "def is_vowel(c):\n",
    "    vowels = 'AEIOU'\n",
    "    if c in vowels:\n",
    "        return True\n",
    "    else:\n",
    "        return False\n",
    "\n",
    "def minion_game(string):\n",
    "    # your code goes here\n",
    "    \n",
    "    vWords = list()\n",
    "    cWords = list()\n",
    "    i = 0\n",
    "    s = len(string)\n",
    "    for letter in string:\n",
    "        if is_vowel(letter):\n",
    "            for j in range(i,s):\n",
    "                vWords.append(string[i:j+1])\n",
    "        else:\n",
    "            for j in range(i,s):\n",
    "                cWords.append(string[i:j+1])\n",
    "        i+=1\n",
    "\n",
    "    if len(vWords) == len(cWords):\n",
    "        answer = ['draw']\n",
    "    elif len(vWords) > len(cWords):\n",
    "        answer = ['Kevin', len(vWords)]\n",
    "    else: \n",
    "        answer = ['Stuart', len(cWords)]\n",
    "        \n",
    "    return answer\n",
    "\n",
    "if __name__ == '__main__':\n",
    "    s = input()\n",
    "    print(minion_game(s))"
   ]
  },
  {
   "cell_type": "code",
   "execution_count": null,
   "metadata": {},
   "outputs": [],
   "source": []
  }
 ],
 "metadata": {
  "kernelspec": {
   "display_name": "Python 3",
   "language": "python",
   "name": "python3"
  },
  "language_info": {
   "codemirror_mode": {
    "name": "ipython",
    "version": 3
   },
   "file_extension": ".py",
   "mimetype": "text/x-python",
   "name": "python",
   "nbconvert_exporter": "python",
   "pygments_lexer": "ipython3",
   "version": "3.7.0"
  }
 },
 "nbformat": 4,
 "nbformat_minor": 2
}
